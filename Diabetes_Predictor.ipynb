{
 "cells": [
  {
   "cell_type": "code",
   "execution_count": null,
   "id": "542d0371",
   "metadata": {},
   "outputs": [],
   "source": [
    "#Commands to install tabpy and run tabpy server\n",
    "#!pip install tabpy\n",
    "#!tabpy"
   ]
  },
  {
   "cell_type": "code",
   "execution_count": 1,
   "id": "dfaec222",
   "metadata": {},
   "outputs": [],
   "source": [
    "#Imports\n",
    "import numpy as np\n",
    "import pandas as pd\n",
    "from sklearn import ensemble\n",
    "from sklearn.model_selection import train_test_split\n",
    "\n",
    "#Setting up tabpy client to deploy the ML model in Tableau\n",
    "from tabpy.tabpy_tools.client import Client\n",
    "client = Client('http://localhost:9004/')"
   ]
  },
  {
   "cell_type": "code",
   "execution_count": 24,
   "id": "38a16558",
   "metadata": {},
   "outputs": [
    {
     "name": "stdout",
     "output_type": "stream",
     "text": [
      "gradient boost: 79.22\n"
     ]
    }
   ],
   "source": [
    "#Read dataset into pandas dataframe\n",
    "df = pd.read_csv('diabetes.csv',sep=',')\n",
    "\n",
    "#Removing unnecessary columns\n",
    "df = df[['Pregnancies', 'Glucose', 'BloodPressure', 'SkinThickness', 'Insulin', 'BMI', 'Age', 'Outcome']]\n",
    "\n",
    "#Split into train and test sets (80/20 split)\n",
    "X_train, X_test, y_train, y_test = train_test_split(df.drop(['Outcome'], axis = 'columns'),df['Outcome'], test_size =\n",
    "0.2)\n",
    "\n",
    "#Train a classifier and display the percentage of correct predictions\n",
    "gb = ensemble.GradientBoostingClassifier()\n",
    "gb.fit(X_train, y_train)\n",
    "gbscore = gb.score(X_test, y_test)\n",
    "print('gradient boost: ' + str(round(gbscore*100,2)))"
   ]
  },
  {
   "cell_type": "code",
   "execution_count": 26,
   "id": "94f2b675",
   "metadata": {},
   "outputs": [],
   "source": [
    "def diabetes_predictor(_arg1, _arg2, _arg3, _arg4, _arg5,_arg6,_arg7):\n",
    "    import pandas as pd\n",
    "    row = {'Pregnancies': _arg1, 'Glucose': _arg2, 'BloodPressure':\n",
    "    _arg3, 'SkinThickness': _arg4, 'Insulin': _arg5, 'BMI':\n",
    "    _arg6, 'Age': _arg7\n",
    "    }\n",
    "    test_data = pd.DataFrame(data = row,index=[0])\n",
    "    predprob_diabetes = gb.predict_proba(test_data)\n",
    "    return [probability[1] for probability in predprob_diabetes]\n",
    "\n",
    "client.deploy('diabetes_predictor', diabetes_predictor,'Predicts the chances of a Pima female having diabetes', override = True)\n",
    "\n",
    "#After this step check that the model is deployed successfully at http://localhost:9004/endpoints"
   ]
  },
  {
   "cell_type": "code",
   "execution_count": null,
   "id": "b9b9b9f4",
   "metadata": {},
   "outputs": [],
   "source": []
  },
  {
   "cell_type": "code",
   "execution_count": null,
   "id": "449767b4",
   "metadata": {},
   "outputs": [],
   "source": []
  }
 ],
 "metadata": {
  "kernelspec": {
   "display_name": "Python 3 (ipykernel)",
   "language": "python",
   "name": "python3"
  },
  "language_info": {
   "codemirror_mode": {
    "name": "ipython",
    "version": 3
   },
   "file_extension": ".py",
   "mimetype": "text/x-python",
   "name": "python",
   "nbconvert_exporter": "python",
   "pygments_lexer": "ipython3",
   "version": "3.9.13"
  }
 },
 "nbformat": 4,
 "nbformat_minor": 5
}
